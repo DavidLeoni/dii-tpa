{
 "cells": [
  {
   "cell_type": "markdown",
   "metadata": {},
   "source": [
    "# Primitive types challenge"
   ]
  },
  {
   "cell_type": "markdown",
   "metadata": {},
   "source": [
    "We now propose some easy exercises without solutions.\n",
    "\n",
    "Try executing them in some IDE, repl.it and terminal to get familiar with all environments."
   ]
  },
  {
   "cell_type": "markdown",
   "metadata": {},
   "source": [
    "### Exercise - cycling\n",
    "\n",
    "✪ Write a program that given three variables with numebers `a`,`b`,`c`, cycles the values, that is, puts the value of `a` in `b`, the value of `b` in `c`, and the value of `c` in `a` .\n",
    "\n",
    "So if you begin like this:\n",
    "\n",
    "\n",
    "\n",
    "```python\n",
    "int a = 4;\n",
    "int b = 7;\n",
    "int c = 9;\n",
    "```\n",
    "\n",
    "After the code that you will write, by running this:\n",
    "\n",
    "\n",
    "```java\n",
    "cout << a << endl;\n",
    "cout << b << endl;\n",
    "cout << c << endl;\n",
    "```\n",
    "\n",
    "You should see:\n",
    "\n",
    "```\n",
    "9\n",
    "4\n",
    "7\n",
    "```\n",
    "\n",
    "There are various ways to do it, try to use **only one** temporary variable and be careful not to lose values."
   ]
  },
  {
   "cell_type": "code",
   "execution_count": 1,
   "metadata": {},
   "outputs": [
    {
     "name": "stdout",
     "output_type": "stream",
     "text": [
      "4\n",
      "7\n",
      "9\n"
     ]
    }
   ],
   "source": [
    "#include <iostream>\n",
    "using namespace std;\n",
    "\n",
    "int a = 4;\n",
    "int b = 7;\n",
    "int c = 9;\n",
    "\n",
    "// write code here\n",
    "\n",
    "cout << a << endl;\n",
    "cout << b << endl;\n",
    "cout << c << endl;"
   ]
  },
  {
   "cell_type": "code",
   "execution_count": 2,
   "metadata": {},
   "outputs": [
    {
     "name": "stdout",
     "output_type": "stream",
     "text": [
      "9\n",
      "4\n",
      "7\n"
     ]
    }
   ],
   "source": []
  },
  {
   "cell_type": "markdown",
   "metadata": {},
   "source": [
    "### Exercise - deadline 1\n",
    "\n",
    "✪ You are given a very important deadline in:"
   ]
  },
  {
   "cell_type": "code",
   "execution_count": 3,
   "metadata": {},
   "outputs": [],
   "source": [
    "int days = 4;\n",
    "int hours = 13;\n",
    "int minutes = 52;"
   ]
  },
  {
   "cell_type": "markdown",
   "metadata": {},
   "source": [
    "Write some code that prints the total minutes. By executing it, it should result:\n",
    "\n",
    "```\n",
    "In total there are 6592 minutes left.\n",
    "```"
   ]
  },
  {
   "cell_type": "code",
   "execution_count": 4,
   "metadata": {},
   "outputs": [
    {
     "name": "stdout",
     "output_type": "stream",
     "text": [
      "In total there are 6592 minutes left"
     ]
    }
   ],
   "source": [
    "int days = 4;\n",
    "int hours = 13;\n",
    "int minutes = 52;\n",
    "\n",
    "// write here\n",
    "\n"
   ]
  },
  {
   "cell_type": "markdown",
   "metadata": {},
   "source": [
    "### Exercise - deadline 2\n",
    "\n",
    "✪ For another super important deadline there are left:\n",
    "\n",
    "```python\n",
    "int totMinutes = 5000;\n",
    "```\n",
    "Write some code that prints:\n",
    "\n",
    "```\n",
    "There are left:\n",
    "   3 days\n",
    "   11 hours\n",
    "   20 minutes\n",
    "```"
   ]
  },
  {
   "cell_type": "code",
   "execution_count": 5,
   "metadata": {},
   "outputs": [
    {
     "name": "stdout",
     "output_type": "stream",
     "text": [
      "There are left:\n",
      "  3 days\n",
      "  11 hours\n",
      "  20 minutes\n"
     ]
    }
   ],
   "source": [
    "int totMinutes = 5000;\n",
    "\n",
    "// write here\n",
    "\n"
   ]
  },
  {
   "cell_type": "markdown",
   "metadata": {},
   "source": [
    "**QUESTION**: given two numbers `a` and `b`, which of the following expressions are equivalent?\n",
    "\n",
    "```cpp\n",
    "using namespace std;\n",
    "\n",
    "1. max(a,b)\n",
    "2. max(min(a,b),b)\n",
    "3. -min(-a,-b)\n",
    "4. -max(-a,-b)\n",
    "```"
   ]
  },
  {
   "cell_type": "markdown",
   "metadata": {},
   "source": [
    "**ANSWER**:\n"
   ]
  },
  {
   "cell_type": "markdown",
   "metadata": {},
   "source": [
    "### Exercise - armchairs\n",
    "\n",
    "✪✪ The tycoon De Industrionis owns two factories of armchairs, one in Belluno city and one in Rovigo. To make an armchair three main components are needed: a mattress, a seatback and a cover. Each factory produces all required components, taking a certain time to produce each component:"
   ]
  },
  {
   "cell_type": "code",
   "execution_count": 6,
   "metadata": {},
   "outputs": [],
   "source": [
    "int b_mat=23, b_bac=54, b_cov=12, r_mat=13, r_bac=37, r_cov=24;"
   ]
  },
  {
   "cell_type": "markdown",
   "metadata": {},
   "source": [
    "Belluno takes 23h to produce a mattress, 54h the seatcback and 12h the cover. Rovigo, respectively, takes 13, 37 and 24 hours. When the 3 components are ready, assembling them in the finished armchair requires one hour.\n",
    "\n",
    "Sometimes peculiar requests are made by filthy rich nobles, that pretends to be shipped in a few hours armchairs with extravagant like seatback in solid platinum and other nonsense.\n",
    "\n",
    "If the two factories start producting the components at the same time, De Industrionis wants to know in how much time the first armchair will be produced. Write some code to calculate that number.\n",
    " \n",
    "* **NOTE 1**: we are not interested in which factory will produce the armchair, we just want to know the shortest time in which we will get an armchair\n",
    "* **NOTE 2**: suppose both factories **don't** have components in store\n",
    "* **NOTE 3**: the two factories **do not** exchange components\n",
    "* **NOTE 4**: `std::min` and `max` only take 2 parameters, to pass more use curly brackets like `std::min({1,2,3})`\n"
   ]
  },
  {
   "cell_type": "markdown",
   "metadata": {},
   "source": [
    "\n",
    "Example 1 - given:\n",
    "\n",
    "```java\n",
    "int b_mat=23, b_bac=54, b_cov=12, r_mat=13, r_bac=37, r_cov=24; \n",
    "```\n",
    "your code must print:\n",
    "\n",
    "```\n",
    "The first armchair will be produced in 38 hours.\n",
    "```\n",
    "\n",
    "Example 2 - given:\n",
    "\n",
    "```java\n",
    "int b_mat=81, b_bac=37, b_cov=32, r_mat=54, r_bac=36, r_cov=91;\n",
    "```\n",
    "your code must print:\n",
    "\n",
    "```\n",
    "The first armchair will be produced in 82 hours.\n",
    "```"
   ]
  },
  {
   "cell_type": "code",
   "execution_count": 7,
   "metadata": {},
   "outputs": [
    {
     "name": "stdout",
     "output_type": "stream",
     "text": [
      "The first armchair will be produced in 38 hours."
     ]
    }
   ],
   "source": [
    "\n",
    "// needed for min / max with curly brackets\n",
    "#include <algorithm>\n",
    "\n",
    "int b_mat=23, b_bac=54, b_cov=12, r_mat=13, r_bac=37, r_cov=24;    // 38\n",
    "//int b_mat=81, b_bac=37, b_cov=32, r_mat=54, r_bac=36, r_cov=91;  // 82\n",
    "//int b_mat=21, b_bac=39, b_cov=47, r_mat=54, r_bac=36, r_cov=91;  // 48\n",
    "\n",
    "// write here\n",
    "\n"
   ]
  },
  {
   "cell_type": "markdown",
   "metadata": {},
   "source": [
    "### Exercise - circle\n",
    "\n",
    "✪ Calculate the area of a circle at the center of a soccer ball (radius = 9.1m), remember that  $area= pi*r^2$\n",
    "\n",
    "Your code should print as result `263.02199094102605`\n",
    "\n",
    "- display with `printf`"
   ]
  },
  {
   "cell_type": "code",
   "execution_count": 8,
   "metadata": {},
   "outputs": [
    {
     "name": "stdout",
     "output_type": "stream",
     "text": [
      "263.02199094102605"
     ]
    }
   ],
   "source": []
  },
  {
   "cell_type": "markdown",
   "metadata": {},
   "source": [
    "### Exercise - fractioning\n",
    "\n",
    "✪ Write some code to calculate the value of the following formula for  `x = 0.000003`, you should obtain `2.753278226511882`\n",
    "\n",
    "- display with `printf`"
   ]
  },
  {
   "cell_type": "markdown",
   "metadata": {},
   "source": [
    "$$\\Large -\\frac{\\sqrt{x+3}}{\\frac{(x + 2)^3}{\\log{x}}}$$"
   ]
  },
  {
   "cell_type": "code",
   "execution_count": 9,
   "metadata": {},
   "outputs": [
    {
     "name": "stdout",
     "output_type": "stream",
     "text": [
      "2.753278226511882"
     ]
    }
   ],
   "source": [
    "double x = 0.000003;\n",
    "\n",
    "// write here\n",
    "\n"
   ]
  },
  {
   "cell_type": "markdown",
   "metadata": {},
   "source": [
    "### Exercise - summation\n",
    "\n",
    "Write some code to calculate the value of the following expression (don't use cycles, write down all calculations), you should obtain `20.533333`\n",
    "\n",
    "- use [setprecision](https://www.cplusplus.com/reference/iomanip/setprecision/) to change displayed digits by `cout`"
   ]
  },
  {
   "cell_type": "markdown",
   "metadata": {},
   "source": [
    "$$\\normalsize \\sum_{j=1}^{3}{\\frac{j^4}{j + 2}}$$"
   ]
  },
  {
   "cell_type": "code",
   "execution_count": 10,
   "metadata": {},
   "outputs": [
    {
     "name": "stdout",
     "output_type": "stream",
     "text": [
      "20.533333"
     ]
    }
   ],
   "source": [
    "// write here\n",
    "\n"
   ]
  },
  {
   "cell_type": "markdown",
   "metadata": {},
   "source": [
    "### Reals - conversion\n",
    "\n",
    "If we want to convert a real to an integer, several ways are available with functions in `std::` namespace:\n",
    "\n",
    "\n",
    "|Function|Description|Mathematical symbol|Result|\n",
    "|--------|-----------|------------------|---------|\n",
    "|`floor(x)`| round x to inferior double|$$\\lfloor{8.7}\\rfloor$$|8.0|\n",
    "|`(int) x`| round x to inferior integer|$$\\lfloor{8.7}\\rfloor$$|8|\n",
    "|`ceil(x)`| round x to superior double|$$\\lceil{5.3}\\rceil$$|6.0|\n",
    "|`round(x)`| round x to closest double|$$\\lfloor{2.49}\\rceil$$|2.0|\n",
    "|          | |$$\\lfloor{2.51}\\rceil$$|3.0|\n"
   ]
  },
  {
   "cell_type": "markdown",
   "metadata": {},
   "source": [
    "**QUESTION**: Look at the following expressions, and for each of them try to guess which result it produces (or if it gives an error).\n",
    "\n",
    "```c++\n",
    "using namespace std;\n",
    "```\n",
    "\n",
    "1.  ```c++\n",
    "    floor(2.3)\n",
    "    ```\n",
    "1.  ```c++\n",
    "    floor(-2.3)\n",
    "    ```\n",
    "1.  ```c++\n",
    "    round(3.49)\n",
    "    ```\n",
    "1.  ```c++\n",
    "    round(3.51)\n",
    "    ```    \n",
    "1.  ```c++\n",
    "    round(-3.49)\n",
    "    ```    \n",
    "1.  ```c++\n",
    "    round(-3.51)\n",
    "    ```\n",
    "1.  ```c++\n",
    "    ceil(8.1)\n",
    "    ```\n",
    "1.  ```c++\n",
    "    ceil(-8.1)\n",
    "    ```    "
   ]
  },
  {
   "cell_type": "markdown",
   "metadata": {},
   "source": [
    "**QUESTION**: Given a float `x`, the following formula is:\n",
    "        \n",
    "```python\n",
    "(int) floor(ceil(x)) == (int) ceil(floor(x))\n",
    "```\n",
    "\n",
    "1. always `true`\n",
    "2. always  `false`\n",
    "3. sometimes `true` and sometimes `false` (give examples)"
   ]
  },
  {
   "cell_type": "markdown",
   "metadata": {},
   "source": [
    "**ANSWER**:\n"
   ]
  },
  {
   "cell_type": "markdown",
   "metadata": {},
   "source": [
    "**QUESTION**: Given a float `x`, the following formula is:\n",
    "        \n",
    "```python\n",
    "(int) floor(x) == (int) -ceil(-x)\n",
    "```\n",
    "\n",
    "1. always `true`\n",
    "2. always `false`\n",
    "3. sometimes `true` and sometimes `false` (give examples)"
   ]
  },
  {
   "cell_type": "markdown",
   "metadata": {},
   "source": [
    "**ANSWER**:\n"
   ]
  },
  {
   "cell_type": "markdown",
   "metadata": {},
   "source": [
    "### Exercise -  Invigorate\n",
    "\n",
    "✪ Excessive studies lead you search on internet recipes of energetic drinks. Luckily, a guru of nutrition just posted on her Instagram channel @HealthyDrinker this recipe of a miracle drink:\n",
    "\n",
    "> Pour in a mixer 2 decilitres of kiwi juice, 4 decilitres of soy sauce, and 3 decilitres of shampoo of karitè bio. Mix vigorously and then pour half drink into a glass. Fill the glass until the superior deciliter. Swallow in one shot.\n",
    "\n",
    "You run shopping the ingredients, and get ready for mixing them. You have a measuring cup with which you transfer the precious fluids, one by one. While transfering, you always pour a little bit more than necessary (but never more than 1 decilitre), and for each ingredient you then remove the excess.\n",
    "\n",
    "\n",
    "* **DO NOT** use subtractions, try using only rounding operators\n",
    "* **HINT**: C++ < 20 facilities for formatting floats aren't that great, sometimes  `printf` is preferable"
   ]
  },
  {
   "cell_type": "markdown",
   "metadata": {},
   "source": [
    "Example - given:\n",
    "\n",
    "```python\n",
    "double kiwi = 2.4;\n",
    "double soy = 4.8;\n",
    "double shampoo = 3.1;\n",
    "double measuring_cup = 0.0;\n",
    "double mixer = 0.0;\n",
    "double glass = 0.0;\n",
    "```\n",
    "\n",
    "Your code must print:\n",
    "\n",
    "```\n",
    "I pour into the measuring cup 2.4 dl of kiwi juice, then I remove excess until keeping 2 dl\n",
    "I transfer into the mixer, now it contains 2.0 dl\n",
    "I pour into the measuring cup 4.8 dl of soia, then I remove excess until keeping 4 dl\n",
    "I transfer into the mixer, now it contains 6.0 dl\n",
    "I pour into the measuring cup 3.1 dl of shampoo, then I remove excess until keeping 3 dl\n",
    "I transfer into the mixer, now it contains 9.0 dl\n",
    "I pour half of the mix ( 4.5 dl ) into the glass\n",
    "I fill the glass until superior deciliter, now it contains: 5 dl\n",
    "```"
   ]
  },
  {
   "cell_type": "code",
   "execution_count": 11,
   "metadata": {},
   "outputs": [
    {
     "name": "stdout",
     "output_type": "stream",
     "text": [
      "I pour into the measuring cup 2.4 dl of kiwi juice, then I remove excess until keeping 2 dl\n",
      "I transfer into the mixer, now it contains 2.0 dl\n",
      "I pour into the measuring cup 4.8 dl of soia, then I remove excess until keeping 4 dl\n",
      "I transfer into the mixer, now it contains 6.0 dl\n",
      "I pour into the measuring cup 3.1 dl of shampoo, then I remove excess until keeping 3 dl\n",
      "I transfer into the mixer, now it contains 9.0 dl\n",
      "I pour half of the mix ( 4.5 dl ) into the glass\n",
      "I fill the glass until superior deciliter, now it contains: 5 dl\n"
     ]
    }
   ],
   "source": [
    "double kiwi = 2.4;\n",
    "double soy = 4.8;\n",
    "double shampoo = 3.1;\n",
    "double measuring_cup = 0.0;\n",
    "double mixer = 0.0;\n",
    "double glass = 0.0;\n",
    "\n",
    "// write here\n",
    "\n"
   ]
  },
  {
   "cell_type": "markdown",
   "metadata": {},
   "source": [
    "### Exercise - Triangle area\n",
    "\n",
    "Compute the area of a triangle having base 120 units (`b`) and height 33 (`h`). Assign the result to a variable named `area` and print it. Your code should show `Triangle area is: 120.0`"
   ]
  },
  {
   "cell_type": "code",
   "execution_count": 12,
   "metadata": {},
   "outputs": [
    {
     "name": "stdout",
     "output_type": "stream",
     "text": [
      "Triangle area is: 120.0"
     ]
    }
   ],
   "source": []
  },
  {
   "cell_type": "markdown",
   "metadata": {},
   "source": [
    "### Exercise - square area\n",
    "\n",
    "Compute the area of a square having side (`s`) equal to `145` units. Assign the result to a variable named `area` and print it, it should show `Square area is: 21025`\n",
    "\n",
    "- use `pow` function"
   ]
  },
  {
   "cell_type": "code",
   "execution_count": 13,
   "metadata": {},
   "outputs": [
    {
     "name": "stdout",
     "output_type": "stream",
     "text": [
      "Square area is: 21025"
     ]
    }
   ],
   "source": []
  },
  {
   "cell_type": "markdown",
   "metadata": {},
   "source": [
    "### Exercise - area from input\n",
    "\n",
    "Modify the program at previous point to acquire the side `s` from the user at runtime.\n",
    "\n",
    "Try also to put the two previous scripts in two separate files (e.g. `TriangleArea.cc` and `SquareArea.cc` and execute them from the terminal)"
   ]
  },
  {
   "cell_type": "code",
   "execution_count": 14,
   "metadata": {},
   "outputs": [
    {
     "name": "stdout",
     "output_type": "stream",
     "text": [
      "Insert size: 4\n",
      "Square area is: 16"
     ]
    }
   ],
   "source": []
  },
  {
   "cell_type": "markdown",
   "metadata": {},
   "source": [
    "### Exercise - trapezoid\n",
    "\n",
    "Write a small script (`trapezoid.cc`) that computes the area of a trapezoid having major base (`mj`) equal to 30 units, minor base (`mb`) equal to 12 and height (`h`) equal to 17. Print the resulting area. Try executing the script from a an IDE and from the terminal.\n",
    "\n",
    "It should print `Trapezoid area is:  357`"
   ]
  },
  {
   "cell_type": "code",
   "execution_count": 15,
   "metadata": {},
   "outputs": [
    {
     "name": "stdout",
     "output_type": "stream",
     "text": [
      "Trapezoid area is: 357"
     ]
    }
   ],
   "source": []
  },
  {
   "cell_type": "markdown",
   "metadata": {},
   "source": [
    "\n",
    "### Exercise - first n numbers\n",
    "\n",
    "* Rewrite the example of the sum of the first 1200 integers by using the following equation: $$\\sum\\limits_{i=1}^n i = \\frac{n (n+1)}{2}$$ \n",
    "\n",
    "* Then modify the program to make it acquire the number of integers to sum n from the user at runtime\n",
    "\n",
    "It should show `Sum of first 1200 integers:  720600`"
   ]
  },
  {
   "cell_type": "code",
   "execution_count": 16,
   "metadata": {},
   "outputs": [
    {
     "name": "stdout",
     "output_type": "stream",
     "text": [
      "Sum of first 1200 integers: 720600"
     ]
    }
   ],
   "source": []
  },
  {
   "cell_type": "code",
   "execution_count": 17,
   "metadata": {},
   "outputs": [
    {
     "name": "stdout",
     "output_type": "stream",
     "text": [
      "Input number n: 1200\n",
      "Sum of first 1200 integers: 720600\n"
     ]
    }
   ],
   "source": []
  },
  {
   "cell_type": "markdown",
   "metadata": {},
   "source": [
    "### Exercise - hypotenuse\n",
    "\n",
    "✪ Write a small script to compute the length of the hypotenuse (`c`) of a right triangle having sides `a`=133 and `b`=72 units (see picture below). It should print **exactly** `Hypotenuse:  151.23822268196622`\n",
    "\n",
    "![triangle 9u349y43](img/triangle.png)"
   ]
  },
  {
   "cell_type": "code",
   "execution_count": 18,
   "metadata": {},
   "outputs": [
    {
     "name": "stdout",
     "output_type": "stream",
     "text": [
      "Hypotenuse: 151.23822268196622"
     ]
    }
   ],
   "source": []
  },
  {
   "cell_type": "markdown",
   "metadata": {},
   "source": [
    "### Exercise - quadratic \n",
    "\n",
    "✪ Write some code to calculate the zeroes of the equation $ax^2-b = 0$ \n",
    "\n",
    "- Show numbers with **20 digits**\n",
    "- **NOTE**: since we have `float` numbers, digits after 6 may not be really significative\n",
    "- At the end check that by substituting the value obtained `x` into the equation you actually obtain zero (or a neighborhood of it!)\n",
    "\n",
    "Example - given:\n",
    "\n",
    "```c++\n",
    "float a = 11.0\n",
    "float b = 3.3\n",
    "```\n",
    "\n",
    "after your code it must print:\n",
    "\n",
    "```\n",
    "11.0 * x**2 - 3.3 = 0 for x1 = 0.54772251844406127930\n",
    "11.0 * x**2 - 3.3 = 0 for x2 = -0.54772251844406127930\n",
    "0.54772251844406127930 is a solution? true\n",
    "-0.54772251844406127930 is a solution? true\n",
    "```"
   ]
  },
  {
   "cell_type": "code",
   "execution_count": 19,
   "metadata": {},
   "outputs": [
    {
     "name": "stdout",
     "output_type": "stream",
     "text": [
      "11.0 * x**2 - 3.3 = 0 per x1 = 0.54772251844406127930\n",
      "11.0 * x**2 - 3.3 = 0 per x2 = -0.54772251844406127930\n",
      "0.54772251844406127930 is a solution? true\n",
      "-0.54772251844406127930 is a solution? true\n"
     ]
    }
   ],
   "source": [
    "float a = 11.0f;\n",
    "float b = 3.3f;\n",
    "\n",
    "// write here\n",
    "\n"
   ]
  },
  {
   "cell_type": "markdown",
   "metadata": {},
   "source": [
    "### Exercise - Airport\n",
    "\n",
    "✪ You finally decide to take a vacation and you go to the airport, but you already know you will need to go through various queues. Luckily, you only have carry-on bag, so you directly go to security checks, where you can choose among three rows of people `sec1`, `sec2`, `sec3`. Each person an average takes 4 minutes to be examinated, you included, and obviously you choose the shortest queue. Afterwards you go to the gate, where you find two queues of `ga1` and `ga2` people, and you know that each person you included an average takes 20 seconds to pass: again you choose the shortes queue. Luckily the aircraft is next to the gate so you can directly choose whether to board at the queue at the head of the aircraft  with `bo1` people or at the queue at the tail of the plane with `bo2` people. Each passenger you included takes an average 30 seconds, and you choose the shortest queue.\n",
    "\n",
    "Write some code to calculate how much time you take in total to enter the plane, showing it in minutes and seconds.\n",
    "\n",
    "Example - given:\n",
    "\n",
    "```java\n",
    "int sec1=4,sec2=5,sec3=8,ga1=5,ga2=2,bo1=7,bo2=6;\n",
    "```\n",
    "\n",
    "your code must print:\n",
    "\n",
    "```\n",
    "24 minutes and 30 seconds\n",
    "```"
   ]
  },
  {
   "cell_type": "code",
   "execution_count": 20,
   "metadata": {},
   "outputs": [
    {
     "name": "stdout",
     "output_type": "stream",
     "text": [
      "24 minutes and 30 seconds"
     ]
    }
   ],
   "source": [
    "int sec1=4,sec2=5,sec3=8,ga1=5,ga2=2,bo1=7,bo2=6;     // 24 minutes and 30 seconds\n",
    "//int sec1=9,sec2=7,sec3=1,ga1=3,ga2=5,bo1=2,bo2=9;   // 10 minutes and 50 seconds\n",
    "\n",
    "// write here\n",
    "\n"
   ]
  },
  {
   "cell_type": "markdown",
   "metadata": {},
   "source": [
    "\n",
    "### Exercise - Holiday trip\n",
    "\n",
    "✪✪ While an holiday you are traveling by car, and in a particular day you want to visit one among 4 destinations. Each location requires to go through two roads `r1` and `r2`. Roads are numbered with two digits numbers, for example to reach destination `1` you need to go to road `58` and road `17`.\n",
    "\n",
    "Write some code that given `r1` and `r2` roads shows the number of the destination.\n",
    "\n",
    "* If the car goes to a road it shouldn't (i.e. road 666), put `0` in `destination`\n",
    "* **DO NOT** use summations\n",
    "* **IMPORTANT: DO NOT use** `if` **commands** (it's possible, think about it ;-)\n",
    "\n",
    "![vacation-trip](img/vacation-trip.png)\n",
    "\n",
    "Example 1 - given:\n",
    "\n",
    "```python\n",
    "int r1=58,r2=31;\n",
    "```\n",
    "\n",
    "After your code it must print:\n",
    "\n",
    "```\n",
    "The destination is 2\n",
    "```\n",
    "\n",
    "Example 2 - given:\n",
    "\n",
    "```python\n",
    "int r1=666,r2=31;\n",
    "```\n",
    "\n",
    "After your code it must print:\n",
    "\n",
    "```\n",
    "The destination is 0\n",
    "```\n"
   ]
  },
  {
   "cell_type": "code",
   "execution_count": 21,
   "metadata": {},
   "outputs": [
    {
     "name": "stdout",
     "output_type": "stream",
     "text": [
      "The destination is 1"
     ]
    }
   ],
   "source": [
    "int r1 = 58, r2 = 17;   // 1\n",
    "//r1 = 58,r2 = 31;   // 2\n",
    "//r1 = 32,r2 = 29;   // 3\n",
    "//r1 = 42,r2 = 75;   // 4\n",
    "//r1 = 666,r2 = 31;  // 0\n",
    "//r1 = 58,r2 = 666;  // 0\n",
    "//r1 = 32,r2 = 999;  // 0\n",
    "\n",
    "// write here\n",
    "\n"
   ]
  }
 ],
 "metadata": {
  "celltoolbar": "Slideshow",
  "kernelspec": {
   "display_name": "C++14",
   "language": "C++14",
   "name": "xcpp14"
  },
  "language_info": {
   "codemirror_mode": "text/x-c++src",
   "file_extension": ".cpp",
   "mimetype": "text/x-c++src",
   "name": "c++",
   "version": "14"
  },
  "toc": {
   "base_numbering": 1,
   "nav_menu": {},
   "number_sections": false,
   "sideBar": true,
   "skip_h1_title": false,
   "title_cell": "Table of Contents",
   "title_sidebar": "Contents",
   "toc_cell": false,
   "toc_position": {},
   "toc_section_display": true,
   "toc_window_display": true
  }
 },
 "nbformat": 4,
 "nbformat_minor": 4
}
