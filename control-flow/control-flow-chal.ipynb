{
 "cells": [
  {
   "cell_type": "markdown",
   "metadata": {},
   "source": [
    "# Control flow challenge"
   ]
  },
  {
   "cell_type": "markdown",
   "metadata": {},
   "source": [
    "We now propose some exercises without solutions."
   ]
  },
  {
   "cell_type": "markdown",
   "metadata": {
    "slideshow": {
     "slide_type": "slide"
    }
   },
   "source": [
    "\n",
    "## Exercise - sghiribizzo\n",
    "\n",
    "✪ Write some code which given the string `s` PRINTS all the possible combinations of row couples such that a row begins with the first characters of `s` and the successive continues with the following characters."
   ]
  },
  {
   "cell_type": "code",
   "execution_count": 1,
   "metadata": {},
   "outputs": [],
   "source": [
    "char s[] = \"sghiribizzo\";"
   ]
  },
  {
   "cell_type": "markdown",
   "metadata": {},
   "source": [
    "```\n",
    "s\n",
    " ghiribizzo\n",
    "sg\n",
    "  hiribizzo\n",
    "sgh\n",
    "   iribizzo\n",
    "sghi\n",
    "    ribizzo\n",
    "sghir\n",
    "     ibizzo\n",
    "sghiri\n",
    "      bizzo\n",
    "sghirib\n",
    "       izzo\n",
    "sghiribi\n",
    "        zzo\n",
    "sghiribiz\n",
    "         zo\n",
    "sghiribizz\n",
    "          o\n",
    "sghiribizzo\n",
    "```"
   ]
  },
  {
   "cell_type": "code",
   "execution_count": 2,
   "metadata": {},
   "outputs": [],
   "source": [
    "#include <iostream>\n",
    "using namespace std;\n",
    "\n",
    "char s[] = \"sghiribizzo\";\n",
    "\n",
    "// write here\n",
    "\n"
   ]
  },
  {
   "cell_type": "markdown",
   "metadata": {
    "slideshow": {
     "slide_type": "slide"
    }
   },
   "source": [
    "## Exercise - DNA\n",
    "\n",
    "✪ Given two DNA strings `s1` and `s2` of equal length, write some code which PRINTS among the first and second string another string made by spaces ` ` and pipe `|` where equal characters are found.\n",
    "\n",
    "* make it also work with strings of different length\n",
    "\n",
    "Example - given:"
   ]
  },
  {
   "cell_type": "code",
   "execution_count": 3,
   "metadata": {
    "slideshow": {
     "slide_type": "fragment"
    }
   },
   "outputs": [],
   "source": [
    "char s1[] = \"ATACATATAGGGCCAATTATTATAAGTCAC\";\n",
    "char s2[] = \"CGCCACTTAAGCGCCCTGTATTAAAGTCGC\";"
   ]
  },
  {
   "cell_type": "markdown",
   "metadata": {
    "slideshow": {
     "slide_type": "fragment"
    }
   },
   "source": [
    "Prints:\n",
    "\n",
    "```\n",
    "ATACATATAGGGCCAATTATTATAAGTCAC\n",
    "   ||  || |  |  |   |  ||||| |\n",
    "CGCCACTTAAGCGCCCTGTATTAAAGTCGC\n",
    "```"
   ]
  },
  {
   "cell_type": "code",
   "execution_count": 3,
   "metadata": {},
   "outputs": [],
   "source": [
    "\n",
    "//char s1[] = \"ATACATATAGGGCCAATTATTAT\";\n",
    "char s1[] =   \"ATACATATAGGGCCAATTATTATAAGTCAC\";\n",
    "char s2[] =   \"CGCCACTTAAGCGCCCTGTATTAAAGTCGC\";\n",
    "//char s2[] = \"CGCCACTTAAGCGCCCTGT\";\n",
    "\n",
    "// write here\n",
    "\n"
   ]
  },
  {
   "cell_type": "markdown",
   "metadata": {},
   "source": [
    "## Exercise - Wild West\n",
    "\n",
    "✪✪ The two outlaws Carson and Butch agreed to bury a treasure in the jolly town of Tombstone, ma now each of them wants to take back the treasure without sharing anything with the partner.\n",
    "\n",
    "- For arriving to the treasure there is a `road` from `Santa Fe` until `Tombstone` which we represent as a list of strings\n",
    "- we use two indexes `butch` and `carson` to represent where the outlaws are on the road\n",
    "- each outlaw starts from a different town\n",
    "- at each turn Carson moves of **one** city\n",
    "- at each turn Butch moves of **two** cities, because he has a fast Mustang horse\n",
    "\n",
    "Write some code which prints the run and terminates as soon as one them arrives to the last city, telling who got the treasure.\n",
    "\n",
    "* In the case both outlaws arrive to the last city at the same time, prints `Final duel in Tombstone!`\n",
    "\n",
    "- your code must work for _any_ `road` and initial position `carson` and `butch`\n",
    "\n",
    "Example - 1 given:\n",
    "\n",
    "```c++\n",
    "//                  0          1        2             3            4                5\n",
    "char road[][20] = {\"Santa Fe\",\"Denver\",\"Dodge City\", \"Silverton\", \"Agua Caliente\", \"Tombstone\"};\n",
    "int carson = 3, butch = 0;\n",
    "\n",
    "```\n",
    "\n",
    "it must print:\n",
    "\n",
    "```\n",
    "Carson starts from Silverton\n",
    "Butch starts from Santa Fe\n",
    "Carson reaches Agua Caliente\n",
    "Butch reaches Dodge City\n",
    "Carson reaches Tombstone\n",
    "Butch reaches Agua Caliente\n",
    "\n",
    "Carson takes the treasure in  Tombstone !\n",
    "```\n",
    "\n",
    "Example 2 - given:\n",
    "\n",
    "```python\n",
    "//                  0          1        2             3            4                5\n",
    "char road[][20] = {\"Santa Fe\",\"Denver\",\"Dodge City\", \"Silverton\", \"Agua Caliente\", \"Tombstone\"};\n",
    "int carson = 3, butch = 2;\n",
    "\n",
    "\n",
    "```\n",
    "\n",
    "it must print:\n",
    "\n",
    "```\n",
    "Carson starts from Silverton\n",
    "Butch starts from Dodge City\n",
    "Carson reaches Agua Caliente\n",
    "Butch reaches Agua Caliente\n",
    "Carson reaches Tombstone\n",
    "Butch reaches Tombstone\n",
    "\n",
    "Final duel in  Tombstone !\n",
    "```"
   ]
  },
  {
   "cell_type": "code",
   "execution_count": 4,
   "metadata": {},
   "outputs": [],
   "source": [
    "#include <cmath>\n",
    "#include <iostream>\n",
    "using namespace std;\n",
    "\n",
    "char road[][20] = {\"Santa Fe\",\"Denver\",\"Dodge City\", \"Silverton\", \"Agua Caliente\", \"Tombstone\"};\n",
    "\n",
    "int carson = 3, butch = 0; //  Carson takes the treasure in Tombstone !\n",
    "//carson = 0; butch = 0;   //  Butch takes the treasure in Tombstone !\n",
    "//carson = 3; butch = 2;   //  Final duel in Tombstone !\n",
    "\n",
    "// write here\n",
    "\n"
   ]
  },
  {
   "cell_type": "markdown",
   "metadata": {},
   "source": [
    "## Exercise - dump\n",
    "\n",
    "✪✪✪ The multinational ToxiCorp wants to hire you for devising an automated truck driver which will deposit highly contaminated waste in the illegal dumps they own worldwide. You find it ethically questionable, but they pay well, so you accept.\n",
    "\n",
    "A dump is modelled as a rectangular region of dimensions `nrow` and `ncol`, implemented as a list of lists matrix. Every cell `i`, `j` contains the tons of waste present, and can contain _at most_ `7` tons of waste. \n",
    "\n",
    "The dumpster truck will transport `q` tons of waste, and try to fill the dump by depositing waste in the first row, filling each cell up to 7 tons. When the first row is filled, it will proceed to the second one _from the left_ , then to the third one again _from the left_ until there is no waste to dispose of. \n",
    "\n",
    "Function `dump(int mat[][30], int nrow, int ncol, int q, int ret[])` takes as input the dump `mat` and the number of tons `q` to dispose of, and writes into `ret` a plan with the sequence of tons to dispose. Plan is terminated by a `-1`. \n",
    "\n",
    "**NOTE**: the function does **not** modify the matrix\n",
    "\n",
    "**Example:**\n",
    "\n",
    "```c++\n",
    "int ret[120] = {-1};\n",
    "                            // tons to dump in each cell\n",
    "int m[][30] = { {5,4,6},    // 2 3 1     \n",
    "                {4,7,1},    // 3 0 6     \n",
    "                {3,2,6},    // 4 3 0     \n",
    "                {3,6,2} };  // 0 0 0\n",
    "    \n",
    "dump(m, 4, 3, 22, ret );\n",
    "\n",
    "for (int i=0; ret[i] != -1; i++){\n",
    "    cout << ret[i] << \" \";\n",
    "}\n",
    "cout << endl;\n",
    "\n",
    "2 3 1 3 0 6 4 3\n",
    "\n",
    "```\n",
    "\n",
    "For first row we dispose of 2,3,1 tons in three cells, for second row we dispose of 3,0,6 tons in three cells, for third row we only dispose 4, 3 tons in two cells as limit q=22 is reached.\n"
   ]
  },
  {
   "cell_type": "code",
   "execution_count": null,
   "metadata": {},
   "outputs": [],
   "source": [
    "#include <cmath>\n",
    "#include <iostream>\n",
    "using namespace std;\n",
    "\n",
    "\n",
    "void dump(int mat[][30], int nrow, int ncol, int q, int ret[]){\n",
    "\n",
    "    // write here\n",
    "    \n",
    "}\n",
    "\n",
    "\n",
    "int main(){\n",
    "    int ret[120] = {-1};\n",
    "\n",
    "    int m5[][30] = { {2,5},    // 5 2\n",
    "                     {4,3} };  // 3 1\n",
    "\n",
    "    dump(m5, 2, 2, 11, ret );   // 5 2 3 1 \n",
    "\n",
    "    for (int i=0; ret[i] != -1; i++){\n",
    "        cout << ret[i] << \" \";\n",
    "    }\n",
    "    cout << endl << endl;\n",
    "\n",
    "    ret[0] = -1;\n",
    "\n",
    "                                 // tons to dump in each cell\n",
    "    int m6[][30] = { {5,4,6},    // 2 3 1     \n",
    "                     {4,7,1},    // 3 0 6     \n",
    "                     {3,2,6},    // 4 3 0     \n",
    "                     {3,6,2} };  // 0 0 0\n",
    "\n",
    "    dump(m6, 4, 3, 22, ret );   // 2 3 1 3 0 6 4 3\n",
    "\n",
    "    for (int i=0; ret[i] >= 0; i++){\n",
    "        cout << ret[i] << \" \";\n",
    "    }\n",
    "    cout << endl;\n",
    "}    \n"
   ]
  },
  {
   "cell_type": "markdown",
   "metadata": {},
   "source": [
    "## Exercise - quadrants\n",
    "\n",
    "✪✪✪ Given a matrix `2n * 2n`, divide the matrix in 4 equal square parts   (see example) and writes into `2 * 2` matrix `ret` the average of each quadrant.\n",
    "\n",
    "We assume the matrix is always of even dimensions\n",
    "\n",
    "\n",
    "Example:\n",
    "\n",
    "```\n",
    " 1, 2 , 5 , 7\n",
    " 4, 1 , 8 , 0\n",
    " 2, 0 , 5 , 1 \n",
    " 0, 2 , 1 , 1 \n",
    "```\n",
    "\n",
    "can be divided in \n",
    "\n",
    "```\n",
    "  1, 2 | 5 , 7\n",
    "  4, 1 | 8 , 0\n",
    "----------------- \n",
    "  2, 0 | 5 , 1 \n",
    "  0, 2 | 1 , 1 \n",
    "```\n",
    "\n",
    "and puts into `ret`\n",
    "\n",
    "```\n",
    "  (1+2+4+1)/ 4  | (5+7+8+0)/4                        2.0 , 5.0 \n",
    "  -----------------------------            =>        1.0 , 2.0 \n",
    "  (2+0+0+2)/4   | (5+1+1+1)/4  \n",
    "```\n",
    "\n",
    "Write code to invoke the function and prints the result."
   ]
  },
  {
   "cell_type": "code",
   "execution_count": null,
   "metadata": {},
   "outputs": [],
   "source": [
    "#include <iostream>\n",
    "#include <iomanip>\n",
    "using namespace std;\n",
    "\n",
    "void quadrants(double mat[20][20], double ret[2][2], int n){\n",
    "    // write here\n",
    "                        \n",
    "}\n",
    "\n",
    "int main(){\n",
    "        \n",
    "    // write here\n",
    "}"
   ]
  },
  {
   "cell_type": "code",
   "execution_count": null,
   "metadata": {},
   "outputs": [],
   "source": []
  }
 ],
 "metadata": {
  "celltoolbar": "Slideshow",
  "kernelspec": {
   "display_name": "C++14",
   "language": "C++14",
   "name": "xcpp14"
  },
  "language_info": {
   "codemirror_mode": "text/x-c++src",
   "file_extension": ".cpp",
   "mimetype": "text/x-c++src",
   "name": "c++",
   "version": "14"
  },
  "toc": {
   "base_numbering": 1,
   "nav_menu": {},
   "number_sections": false,
   "sideBar": true,
   "skip_h1_title": false,
   "title_cell": "Table of Contents",
   "title_sidebar": "Contents",
   "toc_cell": false,
   "toc_position": {},
   "toc_section_display": true,
   "toc_window_display": true
  }
 },
 "nbformat": 4,
 "nbformat_minor": 4
}
